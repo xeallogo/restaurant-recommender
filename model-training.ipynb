{
 "cells": [
  {
   "cell_type": "markdown",
   "metadata": {},
   "source": [
    "# Model Testing\n",
    "### Import libraries and assign variable names to data. "
   ]
  },
  {
   "cell_type": "code",
   "execution_count": 1,
   "metadata": {},
   "outputs": [],
   "source": [
    "import os\n",
    "import json\n",
    "import pandas as pd"
   ]
  },
  {
   "cell_type": "code",
   "execution_count": 2,
   "metadata": {},
   "outputs": [],
   "source": [
    "from surprise import Dataset\n",
    "from surprise import Reader\n",
    "from surprise import SVD, accuracy\n",
    "from surprise import dump\n",
    "from surprise.model_selection import cross_validate, train_test_split\n",
    "from surprise.model_selection import GridSearchCV\n"
   ]
  },
  {
   "cell_type": "code",
   "execution_count": 3,
   "metadata": {},
   "outputs": [],
   "source": [
    "file_path = os.path.expanduser('review_data.csv')"
   ]
  },
  {
   "cell_type": "code",
   "execution_count": 4,
   "metadata": {},
   "outputs": [],
   "source": [
    "reader = Reader(line_format='user item rating', sep=',')"
   ]
  },
  {
   "cell_type": "code",
   "execution_count": 5,
   "metadata": {},
   "outputs": [],
   "source": [
    "data = Dataset.load_from_file(file_path, reader=reader)"
   ]
  },
  {
   "cell_type": "markdown",
   "metadata": {},
   "source": [
    "## Chosen Model: SVD (results of other models at the bottom)"
   ]
  },
  {
   "cell_type": "code",
   "execution_count": 7,
   "metadata": {},
   "outputs": [],
   "source": [
    "svd = SVD()"
   ]
  },
  {
   "cell_type": "code",
   "execution_count": 8,
   "metadata": {
    "scrolled": true
   },
   "outputs": [
    {
     "data": {
      "text/plain": [
       "{'test_rmse': array([1.092094  , 1.09059895, 1.09241337, 1.0921439 , 1.09083689]),\n",
       " 'test_mae': array([0.85843544, 0.85734759, 0.85942355, 0.85954969, 0.85822846]),\n",
       " 'fit_time': (159.57817721366882,\n",
       "  151.42970180511475,\n",
       "  158.18164038658142,\n",
       "  159.7816367149353,\n",
       "  151.8691599369049),\n",
       " 'test_time': (7.196346044540405,\n",
       "  6.307776927947998,\n",
       "  6.693173885345459,\n",
       "  7.134148120880127,\n",
       "  6.588807821273804)}"
      ]
     },
     "execution_count": 8,
     "metadata": {},
     "output_type": "execute_result"
    }
   ],
   "source": [
    "cross_validate(svd, data, measures=['RMSE', 'MAE'], cv=5)"
   ]
  },
  {
   "cell_type": "markdown",
   "metadata": {},
   "source": [
    "## Gridsearch 1 -- Here we are tuning the learning rate and bias for GridSearch."
   ]
  },
  {
   "cell_type": "code",
   "execution_count": 9,
   "metadata": {},
   "outputs": [],
   "source": [
    "param_grid = {'biased': [True, False], 'lr_all': [0.001, 0.005, 0.05]}\n",
    "gs = GridSearchCV(SVD, param_grid, measures=['rmse', 'mae'], cv=3)\n",
    "# 'n_epochs': [10, 20, 50],'reg_all': [0.02, 0.05, 0.08]"
   ]
  },
  {
   "cell_type": "code",
   "execution_count": null,
   "metadata": {},
   "outputs": [],
   "source": [
    "gs.fit(data)"
   ]
  },
  {
   "cell_type": "code",
   "execution_count": null,
   "metadata": {},
   "outputs": [],
   "source": [
    "results = gs.cv_results"
   ]
  },
  {
   "cell_type": "code",
   "execution_count": 26,
   "metadata": {},
   "outputs": [],
   "source": [
    "results_df = pd.DataFrame.from_dict(gs.cv_results)\n",
    "#results_df.to_csv('results.csv')"
   ]
  },
  {
   "cell_type": "code",
   "execution_count": 27,
   "metadata": {
    "scrolled": true
   },
   "outputs": [
    {
     "data": {
      "text/html": [
       "<div>\n",
       "<style scoped>\n",
       "    .dataframe tbody tr th:only-of-type {\n",
       "        vertical-align: middle;\n",
       "    }\n",
       "\n",
       "    .dataframe tbody tr th {\n",
       "        vertical-align: top;\n",
       "    }\n",
       "\n",
       "    .dataframe thead th {\n",
       "        text-align: right;\n",
       "    }\n",
       "</style>\n",
       "<table border=\"1\" class=\"dataframe\">\n",
       "  <thead>\n",
       "    <tr style=\"text-align: right;\">\n",
       "      <th></th>\n",
       "      <th>split0_test_rmse</th>\n",
       "      <th>split1_test_rmse</th>\n",
       "      <th>split2_test_rmse</th>\n",
       "      <th>mean_test_rmse</th>\n",
       "      <th>std_test_rmse</th>\n",
       "      <th>rank_test_rmse</th>\n",
       "      <th>split0_test_mae</th>\n",
       "      <th>split1_test_mae</th>\n",
       "      <th>split2_test_mae</th>\n",
       "      <th>mean_test_mae</th>\n",
       "      <th>std_test_mae</th>\n",
       "      <th>rank_test_mae</th>\n",
       "      <th>mean_fit_time</th>\n",
       "      <th>std_fit_time</th>\n",
       "      <th>mean_test_time</th>\n",
       "      <th>std_test_time</th>\n",
       "      <th>params</th>\n",
       "      <th>param_biased</th>\n",
       "      <th>param_lr_all</th>\n",
       "    </tr>\n",
       "  </thead>\n",
       "  <tbody>\n",
       "    <tr>\n",
       "      <th>0</th>\n",
       "      <td>1.121815</td>\n",
       "      <td>1.123022</td>\n",
       "      <td>1.122295</td>\n",
       "      <td>1.122377</td>\n",
       "      <td>0.000496</td>\n",
       "      <td>2</td>\n",
       "      <td>0.894917</td>\n",
       "      <td>0.895330</td>\n",
       "      <td>0.895943</td>\n",
       "      <td>0.895397</td>\n",
       "      <td>0.000421</td>\n",
       "      <td>3</td>\n",
       "      <td>101.287115</td>\n",
       "      <td>12.756166</td>\n",
       "      <td>55.179468</td>\n",
       "      <td>56.157928</td>\n",
       "      <td>{'biased': True, 'lr_all': 0.001}</td>\n",
       "      <td>True</td>\n",
       "      <td>0.001</td>\n",
       "    </tr>\n",
       "    <tr>\n",
       "      <th>1</th>\n",
       "      <td>1.095546</td>\n",
       "      <td>1.096588</td>\n",
       "      <td>1.096280</td>\n",
       "      <td>1.096138</td>\n",
       "      <td>0.000437</td>\n",
       "      <td>1</td>\n",
       "      <td>0.863294</td>\n",
       "      <td>0.863555</td>\n",
       "      <td>0.863951</td>\n",
       "      <td>0.863600</td>\n",
       "      <td>0.000270</td>\n",
       "      <td>1</td>\n",
       "      <td>122.237027</td>\n",
       "      <td>4.096766</td>\n",
       "      <td>125.242564</td>\n",
       "      <td>10.203921</td>\n",
       "      <td>{'biased': True, 'lr_all': 0.005}</td>\n",
       "      <td>True</td>\n",
       "      <td>0.005</td>\n",
       "    </tr>\n",
       "    <tr>\n",
       "      <th>2</th>\n",
       "      <td>1.145895</td>\n",
       "      <td>1.146561</td>\n",
       "      <td>1.146847</td>\n",
       "      <td>1.146434</td>\n",
       "      <td>0.000399</td>\n",
       "      <td>3</td>\n",
       "      <td>0.887526</td>\n",
       "      <td>0.887307</td>\n",
       "      <td>0.888239</td>\n",
       "      <td>0.887690</td>\n",
       "      <td>0.000398</td>\n",
       "      <td>2</td>\n",
       "      <td>415.258017</td>\n",
       "      <td>388.697796</td>\n",
       "      <td>2648.197713</td>\n",
       "      <td>2215.837836</td>\n",
       "      <td>{'biased': True, 'lr_all': 0.05}</td>\n",
       "      <td>True</td>\n",
       "      <td>0.050</td>\n",
       "    </tr>\n",
       "    <tr>\n",
       "      <th>3</th>\n",
       "      <td>2.665475</td>\n",
       "      <td>2.674566</td>\n",
       "      <td>2.661799</td>\n",
       "      <td>2.667280</td>\n",
       "      <td>0.005366</td>\n",
       "      <td>6</td>\n",
       "      <td>2.331765</td>\n",
       "      <td>2.341412</td>\n",
       "      <td>2.326670</td>\n",
       "      <td>2.333283</td>\n",
       "      <td>0.006113</td>\n",
       "      <td>6</td>\n",
       "      <td>129.907277</td>\n",
       "      <td>11.421524</td>\n",
       "      <td>178.133461</td>\n",
       "      <td>49.572544</td>\n",
       "      <td>{'biased': False, 'lr_all': 0.001}</td>\n",
       "      <td>False</td>\n",
       "      <td>0.001</td>\n",
       "    </tr>\n",
       "    <tr>\n",
       "      <th>4</th>\n",
       "      <td>1.397292</td>\n",
       "      <td>1.400310</td>\n",
       "      <td>1.397937</td>\n",
       "      <td>1.398513</td>\n",
       "      <td>0.001297</td>\n",
       "      <td>5</td>\n",
       "      <td>1.110692</td>\n",
       "      <td>1.112792</td>\n",
       "      <td>1.110970</td>\n",
       "      <td>1.111485</td>\n",
       "      <td>0.000931</td>\n",
       "      <td>5</td>\n",
       "      <td>107.601211</td>\n",
       "      <td>8.414771</td>\n",
       "      <td>120.542719</td>\n",
       "      <td>10.293368</td>\n",
       "      <td>{'biased': False, 'lr_all': 0.005}</td>\n",
       "      <td>False</td>\n",
       "      <td>0.005</td>\n",
       "    </tr>\n",
       "    <tr>\n",
       "      <th>5</th>\n",
       "      <td>1.246154</td>\n",
       "      <td>1.246630</td>\n",
       "      <td>1.246168</td>\n",
       "      <td>1.246317</td>\n",
       "      <td>0.000221</td>\n",
       "      <td>4</td>\n",
       "      <td>0.982923</td>\n",
       "      <td>0.982756</td>\n",
       "      <td>0.983399</td>\n",
       "      <td>0.983026</td>\n",
       "      <td>0.000272</td>\n",
       "      <td>4</td>\n",
       "      <td>105.472106</td>\n",
       "      <td>6.496184</td>\n",
       "      <td>81.059657</td>\n",
       "      <td>12.616613</td>\n",
       "      <td>{'biased': False, 'lr_all': 0.05}</td>\n",
       "      <td>False</td>\n",
       "      <td>0.050</td>\n",
       "    </tr>\n",
       "  </tbody>\n",
       "</table>\n",
       "</div>"
      ],
      "text/plain": [
       "   split0_test_rmse  split1_test_rmse  split2_test_rmse  mean_test_rmse  \\\n",
       "0          1.121815          1.123022          1.122295        1.122377   \n",
       "1          1.095546          1.096588          1.096280        1.096138   \n",
       "2          1.145895          1.146561          1.146847        1.146434   \n",
       "3          2.665475          2.674566          2.661799        2.667280   \n",
       "4          1.397292          1.400310          1.397937        1.398513   \n",
       "5          1.246154          1.246630          1.246168        1.246317   \n",
       "\n",
       "   std_test_rmse  rank_test_rmse  split0_test_mae  split1_test_mae  \\\n",
       "0       0.000496               2         0.894917         0.895330   \n",
       "1       0.000437               1         0.863294         0.863555   \n",
       "2       0.000399               3         0.887526         0.887307   \n",
       "3       0.005366               6         2.331765         2.341412   \n",
       "4       0.001297               5         1.110692         1.112792   \n",
       "5       0.000221               4         0.982923         0.982756   \n",
       "\n",
       "   split2_test_mae  mean_test_mae  std_test_mae  rank_test_mae  mean_fit_time  \\\n",
       "0         0.895943       0.895397      0.000421              3     101.287115   \n",
       "1         0.863951       0.863600      0.000270              1     122.237027   \n",
       "2         0.888239       0.887690      0.000398              2     415.258017   \n",
       "3         2.326670       2.333283      0.006113              6     129.907277   \n",
       "4         1.110970       1.111485      0.000931              5     107.601211   \n",
       "5         0.983399       0.983026      0.000272              4     105.472106   \n",
       "\n",
       "   std_fit_time  mean_test_time  std_test_time  \\\n",
       "0     12.756166       55.179468      56.157928   \n",
       "1      4.096766      125.242564      10.203921   \n",
       "2    388.697796     2648.197713    2215.837836   \n",
       "3     11.421524      178.133461      49.572544   \n",
       "4      8.414771      120.542719      10.293368   \n",
       "5      6.496184       81.059657      12.616613   \n",
       "\n",
       "                               params  param_biased  param_lr_all  \n",
       "0   {'biased': True, 'lr_all': 0.001}          True         0.001  \n",
       "1   {'biased': True, 'lr_all': 0.005}          True         0.005  \n",
       "2    {'biased': True, 'lr_all': 0.05}          True         0.050  \n",
       "3  {'biased': False, 'lr_all': 0.001}         False         0.001  \n",
       "4  {'biased': False, 'lr_all': 0.005}         False         0.005  \n",
       "5   {'biased': False, 'lr_all': 0.05}         False         0.050  "
      ]
     },
     "execution_count": 27,
     "metadata": {},
     "output_type": "execute_result"
    }
   ],
   "source": [
    "results_df"
   ]
  },
  {
   "cell_type": "markdown",
   "metadata": {},
   "source": [
    "#### Best LR = 0.005, Bias = True"
   ]
  },
  {
   "cell_type": "markdown",
   "metadata": {},
   "source": [
    "## Gridsearch 2 -- Here we are tuning the n_factors for GridSearch."
   ]
  },
  {
   "cell_type": "code",
   "execution_count": 47,
   "metadata": {},
   "outputs": [],
   "source": [
    "param_grid = {'n_factors': [1, 5, 10], 'biased': [True], 'lr_all': [0.005],\n",
    "              'n_epochs': [20]}\n",
    "             \n",
    "gs2 = GridSearchCV(SVD, param_grid, measures=['rmse', 'mae'], cv=3)\n",
    "# 'n_epochs': [10, 20, 50],'reg_all': [0.02, 0.05, 0.08]"
   ]
  },
  {
   "cell_type": "code",
   "execution_count": 48,
   "metadata": {},
   "outputs": [],
   "source": [
    "gs2.fit(data)"
   ]
  },
  {
   "cell_type": "code",
   "execution_count": 49,
   "metadata": {},
   "outputs": [],
   "source": [
    "results = gs2.cv_results"
   ]
  },
  {
   "cell_type": "code",
   "execution_count": 50,
   "metadata": {},
   "outputs": [
    {
     "data": {
      "text/html": [
       "<div>\n",
       "<style scoped>\n",
       "    .dataframe tbody tr th:only-of-type {\n",
       "        vertical-align: middle;\n",
       "    }\n",
       "\n",
       "    .dataframe tbody tr th {\n",
       "        vertical-align: top;\n",
       "    }\n",
       "\n",
       "    .dataframe thead th {\n",
       "        text-align: right;\n",
       "    }\n",
       "</style>\n",
       "<table border=\"1\" class=\"dataframe\">\n",
       "  <thead>\n",
       "    <tr style=\"text-align: right;\">\n",
       "      <th></th>\n",
       "      <th>split0_test_rmse</th>\n",
       "      <th>split1_test_rmse</th>\n",
       "      <th>split2_test_rmse</th>\n",
       "      <th>mean_test_rmse</th>\n",
       "      <th>std_test_rmse</th>\n",
       "      <th>rank_test_rmse</th>\n",
       "      <th>split0_test_mae</th>\n",
       "      <th>split1_test_mae</th>\n",
       "      <th>split2_test_mae</th>\n",
       "      <th>mean_test_mae</th>\n",
       "      <th>...</th>\n",
       "      <th>rank_test_mae</th>\n",
       "      <th>mean_fit_time</th>\n",
       "      <th>std_fit_time</th>\n",
       "      <th>mean_test_time</th>\n",
       "      <th>std_test_time</th>\n",
       "      <th>params</th>\n",
       "      <th>param_n_factors</th>\n",
       "      <th>param_biased</th>\n",
       "      <th>param_lr_all</th>\n",
       "      <th>param_n_epochs</th>\n",
       "    </tr>\n",
       "  </thead>\n",
       "  <tbody>\n",
       "    <tr>\n",
       "      <th>0</th>\n",
       "      <td>1.086359</td>\n",
       "      <td>1.085331</td>\n",
       "      <td>1.084574</td>\n",
       "      <td>1.085421</td>\n",
       "      <td>0.000731</td>\n",
       "      <td>1</td>\n",
       "      <td>0.855883</td>\n",
       "      <td>0.854242</td>\n",
       "      <td>0.853917</td>\n",
       "      <td>0.854680</td>\n",
       "      <td>...</td>\n",
       "      <td>1</td>\n",
       "      <td>30.648180</td>\n",
       "      <td>0.463524</td>\n",
       "      <td>11.101873</td>\n",
       "      <td>1.299885</td>\n",
       "      <td>{'n_factors': 1, 'biased': True, 'lr_all': 0.0...</td>\n",
       "      <td>1</td>\n",
       "      <td>True</td>\n",
       "      <td>0.005</td>\n",
       "      <td>20</td>\n",
       "    </tr>\n",
       "    <tr>\n",
       "      <th>1</th>\n",
       "      <td>1.086826</td>\n",
       "      <td>1.085677</td>\n",
       "      <td>1.085088</td>\n",
       "      <td>1.085864</td>\n",
       "      <td>0.000722</td>\n",
       "      <td>2</td>\n",
       "      <td>0.856256</td>\n",
       "      <td>0.854531</td>\n",
       "      <td>0.854410</td>\n",
       "      <td>0.855066</td>\n",
       "      <td>...</td>\n",
       "      <td>2</td>\n",
       "      <td>32.520390</td>\n",
       "      <td>1.041553</td>\n",
       "      <td>10.938498</td>\n",
       "      <td>0.782540</td>\n",
       "      <td>{'n_factors': 5, 'biased': True, 'lr_all': 0.0...</td>\n",
       "      <td>5</td>\n",
       "      <td>True</td>\n",
       "      <td>0.005</td>\n",
       "      <td>20</td>\n",
       "    </tr>\n",
       "    <tr>\n",
       "      <th>2</th>\n",
       "      <td>1.087330</td>\n",
       "      <td>1.086413</td>\n",
       "      <td>1.085600</td>\n",
       "      <td>1.086447</td>\n",
       "      <td>0.000707</td>\n",
       "      <td>3</td>\n",
       "      <td>0.856862</td>\n",
       "      <td>0.855194</td>\n",
       "      <td>0.854764</td>\n",
       "      <td>0.855607</td>\n",
       "      <td>...</td>\n",
       "      <td>3</td>\n",
       "      <td>35.638312</td>\n",
       "      <td>0.684767</td>\n",
       "      <td>9.675809</td>\n",
       "      <td>0.923847</td>\n",
       "      <td>{'n_factors': 10, 'biased': True, 'lr_all': 0....</td>\n",
       "      <td>10</td>\n",
       "      <td>True</td>\n",
       "      <td>0.005</td>\n",
       "      <td>20</td>\n",
       "    </tr>\n",
       "  </tbody>\n",
       "</table>\n",
       "<p>3 rows × 21 columns</p>\n",
       "</div>"
      ],
      "text/plain": [
       "   split0_test_rmse  split1_test_rmse  split2_test_rmse  mean_test_rmse  \\\n",
       "0          1.086359          1.085331          1.084574        1.085421   \n",
       "1          1.086826          1.085677          1.085088        1.085864   \n",
       "2          1.087330          1.086413          1.085600        1.086447   \n",
       "\n",
       "   std_test_rmse  rank_test_rmse  split0_test_mae  split1_test_mae  \\\n",
       "0       0.000731               1         0.855883         0.854242   \n",
       "1       0.000722               2         0.856256         0.854531   \n",
       "2       0.000707               3         0.856862         0.855194   \n",
       "\n",
       "   split2_test_mae  mean_test_mae  ...  rank_test_mae  mean_fit_time  \\\n",
       "0         0.853917       0.854680  ...              1      30.648180   \n",
       "1         0.854410       0.855066  ...              2      32.520390   \n",
       "2         0.854764       0.855607  ...              3      35.638312   \n",
       "\n",
       "   std_fit_time  mean_test_time  std_test_time  \\\n",
       "0      0.463524       11.101873       1.299885   \n",
       "1      1.041553       10.938498       0.782540   \n",
       "2      0.684767        9.675809       0.923847   \n",
       "\n",
       "                                              params param_n_factors  \\\n",
       "0  {'n_factors': 1, 'biased': True, 'lr_all': 0.0...               1   \n",
       "1  {'n_factors': 5, 'biased': True, 'lr_all': 0.0...               5   \n",
       "2  {'n_factors': 10, 'biased': True, 'lr_all': 0....              10   \n",
       "\n",
       "   param_biased  param_lr_all  param_n_epochs  \n",
       "0          True         0.005              20  \n",
       "1          True         0.005              20  \n",
       "2          True         0.005              20  \n",
       "\n",
       "[3 rows x 21 columns]"
      ]
     },
     "execution_count": 50,
     "metadata": {},
     "output_type": "execute_result"
    }
   ],
   "source": [
    "results_df = pd.DataFrame.from_dict(results)\n",
    "results_df"
   ]
  },
  {
   "cell_type": "markdown",
   "metadata": {},
   "source": [
    "#### Best - 1 factor (also tested higher values)"
   ]
  },
  {
   "cell_type": "markdown",
   "metadata": {},
   "source": [
    "# Gridsearch 3 -- Here we are tuning the n_epochs for GridSearch."
   ]
  },
  {
   "cell_type": "code",
   "execution_count": 19,
   "metadata": {},
   "outputs": [],
   "source": [
    "param_grid = {'n_epochs': [10, 20, 50], 'n_factors': [1], 'biased': [True], 'lr_all': [0.005]}\n",
    "gs3 = GridSearchCV(SVD, param_grid, measures=['rmse', 'mae'], cv=3)"
   ]
  },
  {
   "cell_type": "code",
   "execution_count": 20,
   "metadata": {},
   "outputs": [],
   "source": [
    "gs3.fit(data)"
   ]
  },
  {
   "cell_type": "code",
   "execution_count": 21,
   "metadata": {},
   "outputs": [
    {
     "data": {
      "text/html": [
       "<div>\n",
       "<style scoped>\n",
       "    .dataframe tbody tr th:only-of-type {\n",
       "        vertical-align: middle;\n",
       "    }\n",
       "\n",
       "    .dataframe tbody tr th {\n",
       "        vertical-align: top;\n",
       "    }\n",
       "\n",
       "    .dataframe thead th {\n",
       "        text-align: right;\n",
       "    }\n",
       "</style>\n",
       "<table border=\"1\" class=\"dataframe\">\n",
       "  <thead>\n",
       "    <tr style=\"text-align: right;\">\n",
       "      <th></th>\n",
       "      <th>split0_test_rmse</th>\n",
       "      <th>split1_test_rmse</th>\n",
       "      <th>split2_test_rmse</th>\n",
       "      <th>mean_test_rmse</th>\n",
       "      <th>std_test_rmse</th>\n",
       "      <th>rank_test_rmse</th>\n",
       "      <th>split0_test_mae</th>\n",
       "      <th>split1_test_mae</th>\n",
       "      <th>split2_test_mae</th>\n",
       "      <th>mean_test_mae</th>\n",
       "      <th>...</th>\n",
       "      <th>rank_test_mae</th>\n",
       "      <th>mean_fit_time</th>\n",
       "      <th>std_fit_time</th>\n",
       "      <th>mean_test_time</th>\n",
       "      <th>std_test_time</th>\n",
       "      <th>params</th>\n",
       "      <th>param_n_epochs</th>\n",
       "      <th>param_n_factors</th>\n",
       "      <th>param_biased</th>\n",
       "      <th>param_lr_all</th>\n",
       "    </tr>\n",
       "  </thead>\n",
       "  <tbody>\n",
       "    <tr>\n",
       "      <th>0</th>\n",
       "      <td>1.096411</td>\n",
       "      <td>1.095981</td>\n",
       "      <td>1.096711</td>\n",
       "      <td>1.096368</td>\n",
       "      <td>0.000299</td>\n",
       "      <td>2</td>\n",
       "      <td>0.869464</td>\n",
       "      <td>0.869122</td>\n",
       "      <td>0.869546</td>\n",
       "      <td>0.869377</td>\n",
       "      <td>...</td>\n",
       "      <td>2</td>\n",
       "      <td>32.706436</td>\n",
       "      <td>1.962642</td>\n",
       "      <td>11.108491</td>\n",
       "      <td>0.908315</td>\n",
       "      <td>{'n_epochs': 10, 'n_factors': 50, 'biased': Tr...</td>\n",
       "      <td>10</td>\n",
       "      <td>50</td>\n",
       "      <td>True</td>\n",
       "      <td>0.005</td>\n",
       "    </tr>\n",
       "    <tr>\n",
       "      <th>1</th>\n",
       "      <td>1.091622</td>\n",
       "      <td>1.091048</td>\n",
       "      <td>1.091759</td>\n",
       "      <td>1.091476</td>\n",
       "      <td>0.000308</td>\n",
       "      <td>1</td>\n",
       "      <td>0.859990</td>\n",
       "      <td>0.859374</td>\n",
       "      <td>0.860053</td>\n",
       "      <td>0.859806</td>\n",
       "      <td>...</td>\n",
       "      <td>1</td>\n",
       "      <td>70.069960</td>\n",
       "      <td>8.851210</td>\n",
       "      <td>25.613290</td>\n",
       "      <td>14.807396</td>\n",
       "      <td>{'n_epochs': 20, 'n_factors': 50, 'biased': Tr...</td>\n",
       "      <td>20</td>\n",
       "      <td>50</td>\n",
       "      <td>True</td>\n",
       "      <td>0.005</td>\n",
       "    </tr>\n",
       "    <tr>\n",
       "      <th>2</th>\n",
       "      <td>1.140297</td>\n",
       "      <td>1.138450</td>\n",
       "      <td>1.139194</td>\n",
       "      <td>1.139314</td>\n",
       "      <td>0.000759</td>\n",
       "      <td>3</td>\n",
       "      <td>0.885813</td>\n",
       "      <td>0.884742</td>\n",
       "      <td>0.884791</td>\n",
       "      <td>0.885116</td>\n",
       "      <td>...</td>\n",
       "      <td>3</td>\n",
       "      <td>196.621014</td>\n",
       "      <td>28.375468</td>\n",
       "      <td>20.432284</td>\n",
       "      <td>8.816730</td>\n",
       "      <td>{'n_epochs': 50, 'n_factors': 50, 'biased': Tr...</td>\n",
       "      <td>50</td>\n",
       "      <td>50</td>\n",
       "      <td>True</td>\n",
       "      <td>0.005</td>\n",
       "    </tr>\n",
       "  </tbody>\n",
       "</table>\n",
       "<p>3 rows × 21 columns</p>\n",
       "</div>"
      ],
      "text/plain": [
       "   split0_test_rmse  split1_test_rmse  split2_test_rmse  mean_test_rmse  \\\n",
       "0          1.096411          1.095981          1.096711        1.096368   \n",
       "1          1.091622          1.091048          1.091759        1.091476   \n",
       "2          1.140297          1.138450          1.139194        1.139314   \n",
       "\n",
       "   std_test_rmse  rank_test_rmse  split0_test_mae  split1_test_mae  \\\n",
       "0       0.000299               2         0.869464         0.869122   \n",
       "1       0.000308               1         0.859990         0.859374   \n",
       "2       0.000759               3         0.885813         0.884742   \n",
       "\n",
       "   split2_test_mae  mean_test_mae  ...  rank_test_mae  mean_fit_time  \\\n",
       "0         0.869546       0.869377  ...              2      32.706436   \n",
       "1         0.860053       0.859806  ...              1      70.069960   \n",
       "2         0.884791       0.885116  ...              3     196.621014   \n",
       "\n",
       "   std_fit_time  mean_test_time  std_test_time  \\\n",
       "0      1.962642       11.108491       0.908315   \n",
       "1      8.851210       25.613290      14.807396   \n",
       "2     28.375468       20.432284       8.816730   \n",
       "\n",
       "                                              params param_n_epochs  \\\n",
       "0  {'n_epochs': 10, 'n_factors': 50, 'biased': Tr...             10   \n",
       "1  {'n_epochs': 20, 'n_factors': 50, 'biased': Tr...             20   \n",
       "2  {'n_epochs': 50, 'n_factors': 50, 'biased': Tr...             50   \n",
       "\n",
       "   param_n_factors  param_biased  param_lr_all  \n",
       "0               50          True         0.005  \n",
       "1               50          True         0.005  \n",
       "2               50          True         0.005  \n",
       "\n",
       "[3 rows x 21 columns]"
      ]
     },
     "execution_count": 21,
     "metadata": {},
     "output_type": "execute_result"
    }
   ],
   "source": [
    "results = gs3.cv_results\n",
    "results_df = pd.DataFrame.from_dict(results)\n",
    "results_df"
   ]
  },
  {
   "cell_type": "markdown",
   "metadata": {},
   "source": [
    "#### Best n_epochs = 20"
   ]
  },
  {
   "cell_type": "markdown",
   "metadata": {},
   "source": [
    "# Gridsearch 4 -- Here we are tuning the reg_all for GridSearch."
   ]
  },
  {
   "cell_type": "code",
   "execution_count": 63,
   "metadata": {},
   "outputs": [],
   "source": [
    "param_grid = {'n_epochs': [20], 'n_factors': [1], 'biased': [True], \n",
    "              'lr_all': [0.005], 'reg_all': [0.05, 0.06, 0.07]}\n",
    "gs4 = GridSearchCV(SVD, param_grid, measures=['rmse', 'mae'], cv=3)\n"
   ]
  },
  {
   "cell_type": "code",
   "execution_count": 64,
   "metadata": {},
   "outputs": [],
   "source": [
    "gs4.fit(data)"
   ]
  },
  {
   "cell_type": "code",
   "execution_count": 65,
   "metadata": {},
   "outputs": [
    {
     "data": {
      "text/html": [
       "<div>\n",
       "<style scoped>\n",
       "    .dataframe tbody tr th:only-of-type {\n",
       "        vertical-align: middle;\n",
       "    }\n",
       "\n",
       "    .dataframe tbody tr th {\n",
       "        vertical-align: top;\n",
       "    }\n",
       "\n",
       "    .dataframe thead th {\n",
       "        text-align: right;\n",
       "    }\n",
       "</style>\n",
       "<table border=\"1\" class=\"dataframe\">\n",
       "  <thead>\n",
       "    <tr style=\"text-align: right;\">\n",
       "      <th></th>\n",
       "      <th>split0_test_rmse</th>\n",
       "      <th>split1_test_rmse</th>\n",
       "      <th>split2_test_rmse</th>\n",
       "      <th>mean_test_rmse</th>\n",
       "      <th>std_test_rmse</th>\n",
       "      <th>rank_test_rmse</th>\n",
       "      <th>split0_test_mae</th>\n",
       "      <th>split1_test_mae</th>\n",
       "      <th>split2_test_mae</th>\n",
       "      <th>mean_test_mae</th>\n",
       "      <th>...</th>\n",
       "      <th>mean_fit_time</th>\n",
       "      <th>std_fit_time</th>\n",
       "      <th>mean_test_time</th>\n",
       "      <th>std_test_time</th>\n",
       "      <th>params</th>\n",
       "      <th>param_n_epochs</th>\n",
       "      <th>param_n_factors</th>\n",
       "      <th>param_biased</th>\n",
       "      <th>param_lr_all</th>\n",
       "      <th>param_reg_all</th>\n",
       "    </tr>\n",
       "  </thead>\n",
       "  <tbody>\n",
       "    <tr>\n",
       "      <th>0</th>\n",
       "      <td>1.084832</td>\n",
       "      <td>1.085870</td>\n",
       "      <td>1.085679</td>\n",
       "      <td>1.085460</td>\n",
       "      <td>0.000451</td>\n",
       "      <td>3</td>\n",
       "      <td>0.855846</td>\n",
       "      <td>0.856065</td>\n",
       "      <td>0.855736</td>\n",
       "      <td>0.855882</td>\n",
       "      <td>...</td>\n",
       "      <td>32.002656</td>\n",
       "      <td>1.522894</td>\n",
       "      <td>11.476890</td>\n",
       "      <td>0.891822</td>\n",
       "      <td>{'n_epochs': 20, 'n_factors': 1, 'biased': Tru...</td>\n",
       "      <td>20</td>\n",
       "      <td>1</td>\n",
       "      <td>True</td>\n",
       "      <td>0.005</td>\n",
       "      <td>0.05</td>\n",
       "    </tr>\n",
       "    <tr>\n",
       "      <th>1</th>\n",
       "      <td>1.084791</td>\n",
       "      <td>1.085866</td>\n",
       "      <td>1.085683</td>\n",
       "      <td>1.085446</td>\n",
       "      <td>0.000470</td>\n",
       "      <td>1</td>\n",
       "      <td>0.856182</td>\n",
       "      <td>0.856403</td>\n",
       "      <td>0.856082</td>\n",
       "      <td>0.856223</td>\n",
       "      <td>...</td>\n",
       "      <td>30.851868</td>\n",
       "      <td>0.170873</td>\n",
       "      <td>11.295406</td>\n",
       "      <td>1.275715</td>\n",
       "      <td>{'n_epochs': 20, 'n_factors': 1, 'biased': Tru...</td>\n",
       "      <td>20</td>\n",
       "      <td>1</td>\n",
       "      <td>True</td>\n",
       "      <td>0.005</td>\n",
       "      <td>0.06</td>\n",
       "    </tr>\n",
       "    <tr>\n",
       "      <th>2</th>\n",
       "      <td>1.084823</td>\n",
       "      <td>1.085885</td>\n",
       "      <td>1.085647</td>\n",
       "      <td>1.085451</td>\n",
       "      <td>0.000455</td>\n",
       "      <td>2</td>\n",
       "      <td>0.856534</td>\n",
       "      <td>0.856766</td>\n",
       "      <td>0.856393</td>\n",
       "      <td>0.856565</td>\n",
       "      <td>...</td>\n",
       "      <td>29.938706</td>\n",
       "      <td>1.564058</td>\n",
       "      <td>10.551808</td>\n",
       "      <td>0.588312</td>\n",
       "      <td>{'n_epochs': 20, 'n_factors': 1, 'biased': Tru...</td>\n",
       "      <td>20</td>\n",
       "      <td>1</td>\n",
       "      <td>True</td>\n",
       "      <td>0.005</td>\n",
       "      <td>0.07</td>\n",
       "    </tr>\n",
       "  </tbody>\n",
       "</table>\n",
       "<p>3 rows × 22 columns</p>\n",
       "</div>"
      ],
      "text/plain": [
       "   split0_test_rmse  split1_test_rmse  split2_test_rmse  mean_test_rmse  \\\n",
       "0          1.084832          1.085870          1.085679        1.085460   \n",
       "1          1.084791          1.085866          1.085683        1.085446   \n",
       "2          1.084823          1.085885          1.085647        1.085451   \n",
       "\n",
       "   std_test_rmse  rank_test_rmse  split0_test_mae  split1_test_mae  \\\n",
       "0       0.000451               3         0.855846         0.856065   \n",
       "1       0.000470               1         0.856182         0.856403   \n",
       "2       0.000455               2         0.856534         0.856766   \n",
       "\n",
       "   split2_test_mae  mean_test_mae  ...  mean_fit_time  std_fit_time  \\\n",
       "0         0.855736       0.855882  ...      32.002656      1.522894   \n",
       "1         0.856082       0.856223  ...      30.851868      0.170873   \n",
       "2         0.856393       0.856565  ...      29.938706      1.564058   \n",
       "\n",
       "   mean_test_time  std_test_time  \\\n",
       "0       11.476890       0.891822   \n",
       "1       11.295406       1.275715   \n",
       "2       10.551808       0.588312   \n",
       "\n",
       "                                              params  param_n_epochs  \\\n",
       "0  {'n_epochs': 20, 'n_factors': 1, 'biased': Tru...              20   \n",
       "1  {'n_epochs': 20, 'n_factors': 1, 'biased': Tru...              20   \n",
       "2  {'n_epochs': 20, 'n_factors': 1, 'biased': Tru...              20   \n",
       "\n",
       "  param_n_factors  param_biased  param_lr_all  param_reg_all  \n",
       "0               1          True         0.005           0.05  \n",
       "1               1          True         0.005           0.06  \n",
       "2               1          True         0.005           0.07  \n",
       "\n",
       "[3 rows x 22 columns]"
      ]
     },
     "execution_count": 65,
     "metadata": {},
     "output_type": "execute_result"
    }
   ],
   "source": [
    "results = gs4.cv_results\n",
    "results_df = pd.DataFrame.from_dict(results)\n",
    "results_df"
   ]
  },
  {
   "cell_type": "code",
   "execution_count": 66,
   "metadata": {},
   "outputs": [
    {
     "data": {
      "text/html": [
       "<div>\n",
       "<style scoped>\n",
       "    .dataframe tbody tr th:only-of-type {\n",
       "        vertical-align: middle;\n",
       "    }\n",
       "\n",
       "    .dataframe tbody tr th {\n",
       "        vertical-align: top;\n",
       "    }\n",
       "\n",
       "    .dataframe thead th {\n",
       "        text-align: right;\n",
       "    }\n",
       "</style>\n",
       "<table border=\"1\" class=\"dataframe\">\n",
       "  <thead>\n",
       "    <tr style=\"text-align: right;\">\n",
       "      <th></th>\n",
       "      <th>rank_test_rmse</th>\n",
       "      <th>rank_test_mae</th>\n",
       "    </tr>\n",
       "  </thead>\n",
       "  <tbody>\n",
       "    <tr>\n",
       "      <th>0</th>\n",
       "      <td>3</td>\n",
       "      <td>1</td>\n",
       "    </tr>\n",
       "    <tr>\n",
       "      <th>1</th>\n",
       "      <td>1</td>\n",
       "      <td>2</td>\n",
       "    </tr>\n",
       "    <tr>\n",
       "      <th>2</th>\n",
       "      <td>2</td>\n",
       "      <td>3</td>\n",
       "    </tr>\n",
       "  </tbody>\n",
       "</table>\n",
       "</div>"
      ],
      "text/plain": [
       "   rank_test_rmse  rank_test_mae\n",
       "0               3              1\n",
       "1               1              2\n",
       "2               2              3"
      ]
     },
     "execution_count": 66,
     "metadata": {},
     "output_type": "execute_result"
    }
   ],
   "source": [
    "results_df[['rank_test_rmse', 'rank_test_mae']]"
   ]
  },
  {
   "cell_type": "markdown",
   "metadata": {},
   "source": [
    "#### Best reg = 0.06"
   ]
  },
  {
   "cell_type": "code",
   "execution_count": 19,
   "metadata": {
    "scrolled": true
   },
   "outputs": [
    {
     "name": "stdout",
     "output_type": "stream",
     "text": [
      "Evaluating RMSE, MAE of algorithm NMF.\n",
      "\n",
      "------------\n",
      "Fold 1\n",
      "RMSE: 1.3794\n",
      "MAE:  1.0783\n",
      "------------\n",
      "Fold 2\n",
      "RMSE: 1.3801\n",
      "MAE:  1.0787\n",
      "------------\n",
      "Fold 3\n",
      "RMSE: 1.3803\n",
      "MAE:  1.0797\n",
      "------------\n",
      "Fold 4\n",
      "RMSE: 1.3790\n",
      "MAE:  1.0774\n",
      "------------\n",
      "Fold 5\n",
      "RMSE: 1.3789\n",
      "MAE:  1.0773\n",
      "------------\n",
      "Fold 6\n",
      "RMSE: 1.3810\n",
      "MAE:  1.0798\n",
      "------------\n",
      "Fold 7\n",
      "RMSE: 1.3789\n",
      "MAE:  1.0777\n",
      "------------\n",
      "Fold 8\n",
      "RMSE: 1.3796\n",
      "MAE:  1.0786\n",
      "------------\n",
      "Fold 9\n",
      "RMSE: 1.3799\n",
      "MAE:  1.0785\n",
      "------------\n",
      "Fold 10\n",
      "RMSE: 1.3790\n",
      "MAE:  1.0779\n",
      "------------\n",
      "------------\n",
      "Mean RMSE: 1.3796\n",
      "Mean MAE : 1.0784\n",
      "------------\n",
      "------------\n"
     ]
    },
    {
     "data": {
      "text/plain": [
       "CaseInsensitiveDefaultDict(list,\n",
       "                           {'rmse': [1.3794350253411565,\n",
       "                             1.3800631753244952,\n",
       "                             1.3803470449633781,\n",
       "                             1.3790474183963373,\n",
       "                             1.3788653317907658,\n",
       "                             1.3809921876160387,\n",
       "                             1.3788922356505084,\n",
       "                             1.3796261813374224,\n",
       "                             1.3799325331811927,\n",
       "                             1.3790269179343493],\n",
       "                            'mae': [1.0782924691081697,\n",
       "                             1.078739278586975,\n",
       "                             1.07971219559644,\n",
       "                             1.077435373740628,\n",
       "                             1.0773078568785115,\n",
       "                             1.0797835618332265,\n",
       "                             1.0776545359866114,\n",
       "                             1.0785939513347529,\n",
       "                             1.0785215794765843,\n",
       "                             1.0778615445341255]})"
      ]
     },
     "execution_count": 19,
     "metadata": {},
     "output_type": "execute_result"
    }
   ],
   "source": [
    "cross_validate(nmf, data, measures=['RMSE', 'MAE'])"
   ]
  },
  {
   "cell_type": "markdown",
   "metadata": {},
   "source": [
    "# Best Model (Using SVD and the parameters we tested during the iterations of GridSearch)"
   ]
  },
  {
   "cell_type": "code",
   "execution_count": 11,
   "metadata": {},
   "outputs": [],
   "source": [
    "final = SVD(n_epochs=20, n_factors=1, biased=True, \n",
    "              lr_all=0.005, reg_all=0.06)"
   ]
  },
  {
   "cell_type": "code",
   "execution_count": 12,
   "metadata": {},
   "outputs": [],
   "source": [
    "data = Dataset.load_from_file(file_path, reader=reader)\n",
    "trainset, testset = train_test_split(data, test_size=.2)"
   ]
  },
  {
   "cell_type": "code",
   "execution_count": 13,
   "metadata": {},
   "outputs": [],
   "source": [
    "import time\n",
    "start = time.time()"
   ]
  },
  {
   "cell_type": "code",
   "execution_count": 14,
   "metadata": {},
   "outputs": [
    {
     "name": "stdout",
     "output_type": "stream",
     "text": [
      "50.581398010253906\n"
     ]
    }
   ],
   "source": [
    "final.fit(trainset)\n",
    "runtime = time.time() - start\n",
    "print(runtime)"
   ]
  },
  {
   "cell_type": "code",
   "execution_count": 15,
   "metadata": {},
   "outputs": [],
   "source": [
    "predictions = final.test(testset)"
   ]
  },
  {
   "cell_type": "code",
   "execution_count": 16,
   "metadata": {},
   "outputs": [
    {
     "name": "stdout",
     "output_type": "stream",
     "text": [
      "RMSE: 1.0793\n"
     ]
    },
    {
     "data": {
      "text/plain": [
       "1.0792656933837443"
      ]
     },
     "execution_count": 16,
     "metadata": {},
     "output_type": "execute_result"
    }
   ],
   "source": [
    "accuracy.rmse(predictions)"
   ]
  },
  {
   "cell_type": "code",
   "execution_count": 19,
   "metadata": {},
   "outputs": [
    {
     "name": "stdout",
     "output_type": "stream",
     "text": [
      "MAE:  0.8507\n"
     ]
    },
    {
     "data": {
      "text/plain": [
       "0.850677428991642"
      ]
     },
     "execution_count": 19,
     "metadata": {},
     "output_type": "execute_result"
    }
   ],
   "source": [
    "accuracy.mae(predictions)"
   ]
  },
  {
   "cell_type": "code",
   "execution_count": null,
   "metadata": {
    "scrolled": true
   },
   "outputs": [],
   "source": [
    "dump.dump('model', algo=final, predictions=predictions, verbose=1)"
   ]
  },
  {
   "cell_type": "code",
   "execution_count": 21,
   "metadata": {},
   "outputs": [],
   "source": [
    "preds, model = dump.load('model')"
   ]
  },
  {
   "cell_type": "markdown",
   "metadata": {},
   "source": [
    "# Getting Predictions"
   ]
  },
  {
   "cell_type": "markdown",
   "metadata": {},
   "source": [
    "number_of_businesses = 73100\n",
    "\n",
    "\n",
    "number_of_users = 81416"
   ]
  },
  {
   "cell_type": "code",
   "execution_count": 36,
   "metadata": {},
   "outputs": [
    {
     "data": {
      "text/plain": [
       "Prediction(uid='30678', iid='51871', r_ui=None, est=3.4671454350928284, details={'was_impossible': False})"
      ]
     },
     "execution_count": 36,
     "metadata": {},
     "output_type": "execute_result"
    }
   ],
   "source": [
    "model.predict('30678', '51871')"
   ]
  },
  {
   "cell_type": "markdown",
   "metadata": {},
   "source": [
    "### Mapping restaurant information to item IDs"
   ]
  },
  {
   "cell_type": "code",
   "execution_count": 37,
   "metadata": {},
   "outputs": [],
   "source": [
    "import json\n",
    "with open('indexed_businesses.json') as f:\n",
    "    businesses = json.load(f)"
   ]
  },
  {
   "cell_type": "code",
   "execution_count": 38,
   "metadata": {},
   "outputs": [],
   "source": [
    "def find(f, seq):\n",
    "    for item in seq:\n",
    "        if f(item): \n",
    "            return item"
   ]
  },
  {
   "cell_type": "code",
   "execution_count": 39,
   "metadata": {},
   "outputs": [],
   "source": [
    "def get_info(iid):\n",
    "    return find(lambda b: iid == b['id'], businesses)"
   ]
  },
  {
   "cell_type": "code",
   "execution_count": 43,
   "metadata": {},
   "outputs": [
    {
     "data": {
      "text/plain": [
       "{'business_id': 'qa6aqyXmFsOMLt___P6wLQ',\n",
       " 'name': 'Forest Hills Coffee Co',\n",
       " 'address': '2201 Ardmore Blvd',\n",
       " 'city': 'Pittsburgh',\n",
       " 'state': 'PA',\n",
       " 'postal_code': '15221',\n",
       " 'latitude': 40.418,\n",
       " 'longitude': -79.8484835,\n",
       " 'stars': 3.0,\n",
       " 'review_count': 6,\n",
       " 'is_open': 0,\n",
       " 'attributes': {'BusinessParking': \"{'garage': False, 'street': True, 'validated': False, 'lot': False, 'valet': False}\",\n",
       "  'OutdoorSeating': 'True',\n",
       "  'WiFi': \"u'free'\",\n",
       "  'BusinessAcceptsCreditCards': 'True',\n",
       "  'RestaurantsPriceRange2': '2'},\n",
       " 'categories': 'Food, Coffee & Tea, Restaurants',\n",
       " 'hours': None,\n",
       " 'id': 101}"
      ]
     },
     "execution_count": 43,
     "metadata": {},
     "output_type": "execute_result"
    }
   ],
   "source": [
    "get_info(101)"
   ]
  },
  {
   "cell_type": "code",
   "execution_count": 28,
   "metadata": {},
   "outputs": [],
   "source": [
    "def get_n_preds(uid, n):\n",
    "    ratings = []\n",
    "    for i in range(1, 73101):\n",
    "        pred = model.predict(str(uid), str(i))\n",
    "        ratings.append((int(pred.iid), pred.est))\n",
    "    ratingsdesc = sorted(ratings, reverse=True, key=lambda x: x[1])[:n]\n",
    "    namedratings = [(get_info(r[0])['name'], r[1]) for r in ratingsdesc]\n",
    "    return namedratings"
   ]
  },
  {
   "cell_type": "code",
   "execution_count": 41,
   "metadata": {
    "scrolled": false
   },
   "outputs": [
    {
     "data": {
      "text/plain": [
       "[('China Express Chinese Restaurant', 4.524720520471293),\n",
       " ('Mariscos Y Barbacoa La Bella', 4.453280894829094),\n",
       " ('Les Canailles', 4.442511892228422),\n",
       " ('Amados Mexican Food', 4.408152132295895),\n",
       " (\"Papa Joe's Subs & Pasta\", 4.404376142513352),\n",
       " ('Melt Grilled Cheese', 4.392091928011274),\n",
       " ('Market District Express', 4.3785062769619225),\n",
       " ('Pizza Nova', 4.374699943702472),\n",
       " ('Meltwich Food Co', 4.37140705216406),\n",
       " (\"The Dimkin's Crepes\", 4.369352401880189)]"
      ]
     },
     "execution_count": 41,
     "metadata": {},
     "output_type": "execute_result"
    }
   ],
   "source": [
    "get_n_preds(44, 10)"
   ]
  },
  {
   "cell_type": "code",
   "execution_count": 30,
   "metadata": {},
   "outputs": [],
   "source": [
    "import csv\n",
    "with open('review_data.csv', 'r') as f:\n",
    "    reader = csv.reader(f)\n",
    "    reviews = list(reader)"
   ]
  },
  {
   "cell_type": "code",
   "execution_count": 31,
   "metadata": {},
   "outputs": [],
   "source": [
    "def get_reviewed_restaurants(uid, desc=True):\n",
    "    userreviews = list(filter(lambda r: r[0] == str(uid), reviews))\n",
    "    ratings = [r[2] for r in userreviews]\n",
    "    restaurants = list(map(lambda r: get_info(int(r[1])), userreviews))\n",
    "    names = [r['name'] for r in restaurants]\n",
    "    if desc==True:\n",
    "        return sorted(list(zip(names, ratings)), reverse=True, key=lambda x: x[1])\n",
    "    return sorted(list(zip(names, ratings)), key=lambda x: x[1])"
   ]
  },
  {
   "cell_type": "code",
   "execution_count": 44,
   "metadata": {},
   "outputs": [
    {
     "data": {
      "text/plain": [
       "[('Fibo', '5.0'),\n",
       " (\"Papa John's Pizza\", '5.0'),\n",
       " ('Olive Garden Italian Restaurant', '5.0'),\n",
       " ('Prince BBQ', '5.0'),\n",
       " ('Wingstop', '5.0'),\n",
       " ('7-Eleven', '5.0'),\n",
       " ('Solstice Tavern', '5.0'),\n",
       " ('Sariwon Korean Bbq Restaurant', '5.0'),\n",
       " ('Darling Donuts', '5.0'),\n",
       " ('The Pig and Cow', '5.0'),\n",
       " ('Bootleggers Modern American Smokehouse', '5.0'),\n",
       " ('Circle K', '5.0'),\n",
       " ('Circus Buffet', '5.0'),\n",
       " ('Java House', '5.0'),\n",
       " (\"Camarone's Cantina\", '5.0'),\n",
       " ('Formocha', '4.0'),\n",
       " (\"McDonald's\", '4.0'),\n",
       " ('Los 7 Compas', '4.0'),\n",
       " ('CSI Coffee Pub', '3.0'),\n",
       " ('Waffle House', '3.0'),\n",
       " (\"McDuffy's Sports Grill\", '3.0'),\n",
       " ('LCBO', '3.0'),\n",
       " ('Little Pastry Chefs', '2.0'),\n",
       " ('Biryani Indian Restaurant', '2.0'),\n",
       " ('iBurger', '1.0')]"
      ]
     },
     "execution_count": 44,
     "metadata": {},
     "output_type": "execute_result"
    }
   ],
   "source": [
    "get_reviewed_restaurants(4111)"
   ]
  }
 ],
 "metadata": {
  "kernelspec": {
   "display_name": "Python 3",
   "language": "python",
   "name": "python3"
  },
  "language_info": {
   "codemirror_mode": {
    "name": "ipython",
    "version": 3
   },
   "file_extension": ".py",
   "mimetype": "text/x-python",
   "name": "python",
   "nbconvert_exporter": "python",
   "pygments_lexer": "ipython3",
   "version": "3.7.9"
  }
 },
 "nbformat": 4,
 "nbformat_minor": 2
}
